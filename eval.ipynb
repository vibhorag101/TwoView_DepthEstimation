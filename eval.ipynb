{
 "cells": [
  {
   "cell_type": "code",
   "execution_count": 2,
   "metadata": {},
   "outputs": [],
   "source": [
    "import numpy as np\n",
    "import cv2"
   ]
  },
  {
   "cell_type": "code",
   "execution_count": 11,
   "metadata": {},
   "outputs": [
    {
     "name": "stdout",
     "output_type": "stream",
     "text": [
      "Mean squared error (MSE) between predicted and ground truth depth maps: 0.3536\n"
     ]
    }
   ],
   "source": [
    "def giveError(gtPath, predPath):\n",
    "    \n",
    "    gt_depth = cv2.imread(gtPath,cv2.IMREAD_GRAYSCALE)\n",
    "    pred_depth_img = cv2.imread(predPath, cv2.IMREAD_GRAYSCALE)\n",
    "\n",
    "    pred_depth = pred_depth_img.astype(np.float32) / 255.0\n",
    "    gt_depth = gt_depth.astype(np.float32) / 255.0\n",
    "\n",
    "    h_diff = gt_depth.shape[0] - pred_depth.shape[0]\n",
    "    w_diff = gt_depth.shape[1] - pred_depth.shape[1]\n",
    "\n",
    "    pred_depth = np.pad(pred_depth, ((0, h_diff), (0, w_diff)), 'constant')\n",
    "\n",
    "    diff = pred_depth - gt_depth\n",
    "    mse = np.mean(diff**2)\n",
    "\n",
    "    print(f'Mean squared error (MSE) between predicted and ground truth depth maps: {mse:.4f}')\n",
    "    \n",
    "giveError('depth_maps_middlebury_DL/4.png','depthmapsmiddlebury/depthmap2.jpg')"
   ]
  }
 ],
 "metadata": {
  "kernelspec": {
   "display_name": "ml",
   "language": "python",
   "name": "python3"
  },
  "language_info": {
   "codemirror_mode": {
    "name": "ipython",
    "version": 3
   },
   "file_extension": ".py",
   "mimetype": "text/x-python",
   "name": "python",
   "nbconvert_exporter": "python",
   "pygments_lexer": "ipython3",
   "version": "3.10.10"
  },
  "orig_nbformat": 4
 },
 "nbformat": 4,
 "nbformat_minor": 2
}
